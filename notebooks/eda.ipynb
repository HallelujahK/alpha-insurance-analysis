{
 "cells": [
  {
   "cell_type": "markdown",
   "metadata": {},
   "source": [
    "# Exploratory Data Analysis for AlphaCare Insurance Solutions (ACIS)\n",
    "\n",
    "This notebook contains the exploratory data analysis for the car insurance data from AlphaCare Insurance Solutions (ACIS). The analysis aims to help optimize the marketing strategy and discover \"low-risk\" targets for which the premium could be reduced."
   ]
  },
  {
   "cell_type": "code",
   "execution_count": 12,
   "metadata": {},
   "outputs": [],
   "source": [
    "import sys\n",
    "import os\n",
    "import pandas as pd\n",
    "import matplotlib.pyplot as plt\n",
    "import seaborn as sns\n",
    "from scipy import stats\n",
    "# Define the path to the src directory\n",
    "src_dir = os.path.abspath(os.path.join(os.getcwd(), '..', 'src'))\n",
    "sys.path.insert(0, src_dir)\n",
    "\n",
    "if 'data_loader' in sys.modules:\n",
    "    del sys.modules['data_loader']\n",
    "if 'eda' in sys.modules:\n",
    "    del sys.modules['eda']\n",
    "if 'statistical_analysis' in sys.modules:\n",
    "    del sys.modules['statistical_analysis']\n",
    "\n",
    "if 'advanced_visualizations' in sys.modules:\n",
    "    del sys.modules['advanced_visualizations']\n",
    "\n",
    "from src.data_loader import DataLoader\n",
    "from src.eda import EDA\n",
    "from src.statistical_analysis import StatisticalAnalysis\n",
    "from src.advanced_visualizations import AdvancedVisualizations"
   ]
  },
  {
   "cell_type": "markdown",
   "metadata": {},
   "source": [
    "## 1. Data Loading and Initial Exploration"
   ]
  },
  {
   "cell_type": "code",
   "execution_count": null,
   "metadata": {},
   "outputs": [],
   "source": [
    "data_loader = DataLoader('C:/Users/Lidya/Downloads/Week-3/alpha-insurance-analysis/data/MachineLearningRating_v3.txt')\n",
    "data = data_loader.load_data()\n",
    "print(data.head())\n",
    "print(data.info())"
   ]
  },
  {
   "cell_type": "markdown",
   "metadata": {},
   "source": [
    "## 2. Data Quality Assessment"
   ]
  },
  {
   "cell_type": "code",
   "execution_count": null,
   "metadata": {},
   "outputs": [],
   "source": [
    "missing_values = data_loader.check_missing_values()\n",
    "print(\"Missing values:\")\n",
    "print(missing_values)\n",
    "\n",
    "# Check data types\n",
    "print(\"\\nData types:\")\n",
    "print(data.dtypes)"
   ]
  },
  {
   "cell_type": "markdown",
   "metadata": {},
   "source": [
    "## 3. Univariate Analysis"
   ]
  },
  {
   "cell_type": "code",
   "execution_count": null,
   "metadata": {},
   "outputs": [],
   "source": [
    "eda = EDA(data)\n",
    "\n",
    "# Numerical columns\n",
    "numerical_cols = ['TotalPremium', 'TotalClaims', 'SumInsured', 'CalculatedPremiumPerTerm']\n",
    "eda.plot_histograms(numerical_cols, '../scripts/output')\n",
    "\n",
    "# Categorical columns\n",
    "categorical_cols = ['Citizenship', 'LegalType', 'MaritalStatus', 'Gender', 'ItemType', 'VehicleType']\n",
    "for col in categorical_cols:\n",
    "    plt.figure(figsize=(10, 6))\n",
    "    data[col].value_counts().plot(kind='bar')\n",
    "    plt.title(f'Distribution of {col}')\n",
    "    plt.tight_layout()\n",
    "    plt.show()"
   ]
  },
  {
   "cell_type": "markdown",
   "metadata": {},
   "source": [
    "## 4. Bivariate and Multivariate Analysis"
   ]
  },
  {
   "cell_type": "code",
   "execution_count": null,
   "metadata": {},
   "outputs": [],
   "source": [
    "# Correlation matrix\n",
    "eda.plot_correlation_matrix('../scripts/output')\n",
    "\n",
    "# Scatter plot of TotalPremium vs TotalClaims\n",
    "plt.figure(figsize=(10, 6))\n",
    "sns.scatterplot(x='TotalPremium', y='TotalClaims', data=data)\n",
    "plt.title('TotalPremium vs TotalClaims')\n",
    "plt.show()\n",
    "\n",
    "# Box plot of TotalPremium by VehicleType\n",
    "plt.figure(figsize=(12, 6))\n",
    "sns.boxplot(x='VehicleType', y='TotalPremium', data=data)\n",
    "plt.title('TotalPremium by VehicleType')\n",
    "plt.xticks(rotation=45)\n",
    "plt.show()"
   ]
  },
  {
   "cell_type": "markdown",
   "metadata": {},
   "source": [
    "## 5. Outlier Detection"
   ]
  },
  {
   "cell_type": "code",
   "execution_count": 11,
   "metadata": {},
   "outputs": [],
   "source": [
    "eda.plot_boxplots(numerical_cols, '../scripts/output')"
   ]
  },
  {
   "cell_type": "markdown",
   "metadata": {},
   "source": [
    "## 6. Trends Over Geography"
   ]
  },
  {
   "cell_type": "code",
   "execution_count": null,
   "metadata": {},
   "outputs": [],
   "source": [
    "# Average premium by Province\n",
    "avg_premium_by_province = data.groupby('Province')['TotalPremium'].mean().sort_values(ascending=False)\n",
    "plt.figure(figsize=(12, 6))\n",
    "avg_premium_by_province.plot(kind='bar')\n",
    "plt.title('Average Premium by Province')\n",
    "plt.ylabel('Average Premium')\n",
    "plt.xticks(rotation=45)\n",
    "plt.show()\n",
    "\n",
    "# Distribution of CoverType by Province\n",
    "cover_type_by_province = pd.crosstab(data['Province'], data['CoverType'], normalize='index')\n",
    "cover_type_by_province.plot(kind='bar', stacked=True, figsize=(12, 6))\n",
    "plt.title('Distribution of Cover Type by Province')\n",
    "plt.ylabel('Proportion')\n",
    "plt.legend(title='Cover Type', bbox_to_anchor=(1.05, 1), loc='upper left')\n",
    "plt.tight_layout()\n",
    "plt.show()"
   ]
  },
  {
   "cell_type": "markdown",
   "metadata": {},
   "source": [
    "## 7. Statistical Analysis"
   ]
  },
  {
   "cell_type": "code",
   "execution_count": null,
   "metadata": {},
   "outputs": [],
   "source": [
    "stats_analysis = StatisticalAnalysis(data)\n",
    "\n",
    "# Confidence interval for TotalPremium\n",
    "ci_premium = stats_analysis.calculate_confidence_interval('TotalPremium')\n",
    "print(f\"95% Confidence Interval for TotalPremium: {ci_premium}\")\n",
    "\n",
    "# T-test between TotalPremium for different genders\n",
    "male_premiums = data[data['Gender'] == 'Male']['TotalPremium']\n",
    "female_premiums = data[data['Gender'] == 'Female']['TotalPremium']\n",
    "t_stat, p_value = stats.ttest_ind(male_premiums, female_premiums)\n",
    "print(f\"T-test results for TotalPremium between genders: t-statistic = {t_stat}, p-value = {p_value}\")\n",
    "\n",
    "# Correlation between TotalPremium and SumInsured\n",
    "correlation = stats_analysis.calculate_correlation('TotalPremium', 'SumInsured')\n",
    "print(f\"Correlation between TotalPremium and SumInsured: {correlation}\")"
   ]
  },
  {
   "cell_type": "markdown",
   "metadata": {},
   "source": [
    "## 8. Advanced Visualizations"
   ]
  },
  {
   "cell_type": "code",
   "execution_count": null,
   "metadata": {},
   "outputs": [],
   "source": [
    "adv_vis = AdvancedVisualizations(data)\n",
    "\n",
    "# Correlation heatmap\n",
    "adv_vis.plot_correlation_heatmap('../scripts/output/correlation_heatmap.png')\n",
    "\n",
    "# Premium by VehicleType and CoverType\n",
    "adv_vis.plot_premium_by_vehicle_and_cover('../scripts/output/premium_by_vehicle_and_cover.png')\n",
    "\n",
    "# Claims by Province\n",
    "adv_vis.plot_claims_by_province('../scripts/output/claims_by_province.png', '../resources/Data/sa_shapefile/sa_shapefile.shp')"
   ]
  }
 ],
 "metadata": {
  "kernelspec": {
   "display_name": "Python 3",
   "language": "python",
   "name": "python3"
  },
  "language_info": {
   "codemirror_mode": {
    "name": "ipython",
    "version": 3
   },
   "file_extension": ".py",
   "mimetype": "text/x-python",
   "name": "python",
   "nbconvert_exporter": "python",
   "pygments_lexer": "ipython3",
   "version": "3.12.4"
  }
 },
 "nbformat": 4,
 "nbformat_minor": 4
}
