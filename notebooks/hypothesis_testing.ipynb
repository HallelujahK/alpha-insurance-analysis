{
 "cells": [
  {
   "cell_type": "markdown",
   "metadata": {},
   "source": [
    "# Hypothesis Testing for AlphaCare Insurance Solutions\n",
    "\n",
    "This notebook performs hypothesis testing on the insurance claim data to help optimize the marketing strategy and discover 'low-risk' targets for premium reduction."
   ]
  },
  {
   "cell_type": "code",
   "execution_count": 1,
   "metadata": {},
   "outputs": [],
   "source": [
    "import pandas as pd\n",
    "import matplotlib.pyplot as plt\n",
    "import seaborn as sns\n",
    "import sys\n",
    "import os\n",
    "\n",
    "# Add the src directory to the Python path\n",
    "src_dir = os.path.abspath(os.path.join(os.getcwd(), '..', 'src'))\n",
    "sys.path.insert(0, src_dir)\n",
    "\n",
    "from src.data_loader import DataLoader\n",
    "from src.hypothesis_testing import HypothesisTesting"
   ]
  },
  {
   "cell_type": "markdown",
   "metadata": {},
   "source": [
    "## Load and Prepare Data"
   ]
  },
  {
   "cell_type": "code",
   "execution_count": null,
   "metadata": {},
   "outputs": [],
   "source": [
    "data_loader = DataLoader('C:/Users/Lidya/Downloads/Week-3/alpha-insurance-analysis/data\\MachineLearningRating_v3.txt')\n",
    "data = data_loader.load_data()\n",
    "print(data.head())\n",
    "print(data.info())"
   ]
  },
  {
   "cell_type": "markdown",
   "metadata": {},
   "source": [
    "## Perform Hypothesis Testing"
   ]
  },
  {
   "cell_type": "code",
   "execution_count": null,
   "metadata": {},
   "outputs": [],
   "source": [
    "hypothesis_tester = HypothesisTesting(data)\n",
    "results = hypothesis_tester.run_all_tests()\n",
    "\n",
    "for result in results:\n",
    "    print(f\"Test: {result['test']}\")\n",
    "    print(f\"Statistic: {result['statistic']:.4f}\")\n",
    "    print(f\"P-value: {result['p_value']:.4f}\")\n",
    "    print(f\"Reject null hypothesis: {result['reject_null']}\\n\")"
   ]
  },
  {
   "cell_type": "markdown",
   "metadata": {},
   "source": [
    "## Visualizations"
   ]
  },
  {
   "cell_type": "code",
   "execution_count": null,
   "metadata": {},
   "outputs": [],
   "source": [
    "# Risk distribution across provinces\n",
    "province_risk = data.groupby('Province').apply(hypothesis_tester.calculate_risk_ratio).sort_values(ascending=False)\n",
    "\n",
    "plt.figure(figsize=(12, 6))\n",
    "sns.barplot(x=province_risk.index, y=province_risk.values)\n",
    "plt.title('Risk Ratio by Province')\n",
    "plt.xlabel('Province')\n",
    "plt.ylabel('Risk Ratio')\n",
    "plt.xticks(rotation=45)\n",
    "plt.show()"
   ]
  },
  {
   "cell_type": "code",
   "execution_count": null,
   "metadata": {},
   "outputs": [],
   "source": [
    "# Margin distribution across postal codes (top 20)\n",
    "postal_margin = data.groupby('PostalCode').apply(lambda x: (x['TotalPremium'] - x['TotalClaims']).mean()).sort_values(ascending=False).head(20)\n",
    "\n",
    "plt.figure(figsize=(12, 6))\n",
    "sns.barplot(x=postal_margin.index, y=postal_margin.values)\n",
    "plt.title('Average Margin by Postal Code (Top 20)')\n",
    "plt.xlabel('Postal Code')\n",
    "plt.ylabel('Average Margin')\n",
    "plt.xticks(rotation=90)\n",
    "plt.show()"
   ]
  },
  {
   "cell_type": "code",
   "execution_count": null,
   "metadata": {},
   "outputs": [],
   "source": [
    "# Risk comparison between genders\n",
    "gender_risk = data.groupby('Gender').apply(hypothesis_tester.calculate_risk_ratio)\n",
    "\n",
    "plt.figure(figsize=(8, 6))\n",
    "sns.barplot(x=gender_risk.index, y=gender_risk.values)\n",
    "plt.title('Risk Ratio by Gender')\n",
    "plt.xlabel('Gender')\n",
    "plt.ylabel('Risk Ratio')\n",
    "plt.show()"
   ]
  },
  {
   "cell_type": "markdown",
   "metadata": {},
   "source": [
    "# Observations and Conclusions\n",
    "\n",
    "## 1. Risk differences across provinces\n",
    "\n",
    "**Test results:**\n",
    "```python\n",
    "print(\"Test: Risk differences across provinces\")\n",
    "print(\"Statistic: 104.1909\")\n",
    "print(\"P-value: 0.0000\")\n",
    "print(\"Reject null hypothesis: True\")\n",
    "```\n",
    "\n",
    "- The chi-square test results provide strong evidence to reject the null hypothesis.\n",
    "- There are significant statistical differences in risk across the provinces.\n",
    "- From the \"Risk Ratio by Province\" graph, we note the following:\n",
    "  - Gauteng shows the highest risk ratio, with KwaZulu-Natal and Western Cape following closely behind.\n",
    "  - Northern Cape has the lowest risk ratio, which is notably lower than the other provinces.\n",
    "\n",
    "**Implications for marketing strategy:**\n",
    "- Consider revising premiums or underwriting policies based on varying provincial risk levels.\n",
    "- Implement focused risk management initiatives in high-risk regions such as Gauteng.\n",
    "- Look into opportunities for growth in lower-risk provinces like Northern Cape.\n",
    "\n",
    "## 2. Risk differences between postal codes\n",
    "\n",
    "**Test results:**\n",
    "```python\n",
    "print(\"Test: Risk differences between postal codes\")\n",
    "print(\"Statistic: 1454.4676\")\n",
    "print(\"P-value: 0.0000\")\n",
    "print(\"Reject null hypothesis: True\")\n",
    "```\n",
    "\n",
    "Here are the rephrased versions:\n",
    "\n",
    "- The chi-square test results strongly indicate the rejection of the null hypothesis.\n",
    "- There are statistically significant differences in risk between postal codes.\n",
    "- This suggests that location, at a finer granularity than province, plays a crucial role in risk evaluation.\n",
    "\n",
    "**Potential targeted marketing opportunities:**\n",
    "- Design postal code-specific marketing strategies, targeting areas with lower risk ratios.\n",
    "- Offer more competitive rates in low-risk postal codes to attract potential customers.\n",
    "- Apply stricter underwriting criteria or higher premiums in high-risk postal codes to mitigate risk exposure.\n",
    "\n",
    "## 3. Margin differences between postal codes\n",
    "\n",
    "**Test results:**\n",
    "```python\n",
    "print(\"Test: Margin differences between postal codes\")\n",
    "print(\"Statistic: 0.8707\")\n",
    "print(\"P-value: 0.9977\")\n",
    "print(\"Reject null hypothesis: False\")\n",
    "```\n",
    "\n",
    "- The ANOVA test results suggest that we cannot reject the null hypothesis.\n",
    "- There are no statistically significant differences in margins across postal codes.\n",
    "- The \"Average Margin by Postal Code (Top 20)\" graph shows some variation in margins, but these differences are not statistically significant across all postal codes.\n",
    "\n",
    "**Implications for premium adjustments:**\n",
    "- Although certain postal codes may have different average margins, the overall pricing strategy appears consistent across regions.\n",
    "- Focus on factors other than postal code when considering potential premium adjustments.\n",
    "- Investigate why specific postal codes (such as 3887 and 4016) have higher average margins, even though the differences are not statistically significant overall.\n",
    "\n",
    "## 4. Risk differences between Women and Men\n",
    "\n",
    "**Test results:**\n",
    "```python\n",
    "print(\"Test: Risk differences between Women and Men\")\n",
    "print(\"Statistic: nan\")\n",
    "print(\"P-value: nan\")\n",
    "print(\"Reject null hypothesis: False\")\n",
    "```\n",
    "\n",
    "Here is the rephrased version of your content:\n",
    "\n",
    "- The t-test result suggests a potential issue with either the data or the implementation of the test.\n",
    "- We cannot confidently draw conclusions about risk differences between genders from this result.\n",
    "- However, the \"Risk Ratio by Gender\" graph reveals some key observations:\n",
    "  - Males appear to have a slightly higher risk ratio than females.\n",
    "  - The \"Not specified\" category shows the highest risk ratio, indicating the need for further investigation.\n",
    "\n",
    "**Potential gender-based marketing strategies:**\n",
    "- Additional analysis is required to determine whether the observed gender differences are statistically significant.\n",
    "- Consider creating marketing campaigns tailored to different genders, while ensuring that discriminatory practices are avoided.\n",
    "- Investigate the elevated risk ratio in the \"Not specified\" category to determine whether it reflects a specific group or a data quality issue.\n",
    "\n",
    "## Overall conclusions and recommendations for ACIS marketing strategy\n",
    "\n",
    "- Geographic factors, especially at the province and postal code levels, are important in assessing risk.\n",
    "- Implement location-specific marketing and underwriting strategies to manage risks effectively and attract lower-risk customers.\n",
    "- While margins show no significant differences across postal codes, there may still be opportunities to optimize premiums in specific regions.\n",
    "- Gender-based risk differences require further investigation due to inconclusive statistical findings.\n",
    "\n",
    "## Suggested areas for further investigation or data collection\n",
    "\n",
    "1. Explore other demographic factors (e.g., age, occupation) to uncover additional risk patterns.\n",
    "2. Investigate the causes of higher risk ratios in Gauteng, KwaZulu-Natal, and Western Cape.\n",
    "3. Conduct a detailed analysis of the \"Not specified\" gender category to understand its elevated risk ratio.\n",
    "4. Perform time-series analysis to detect any seasonal or long-term trends in risk ratios and margins.\n",
    "5. Collect more detailed data on vehicle types and usage patterns to enhance risk assessment accuracy.\n",
    "6. Investigate the relationship between customer loyalty (policy duration) and risk ratios to inform retention strategies.\n",
    "\n",
    "By leveraging these insights and conducting further analyses, ACIS can fine-tune its marketing strategy, optimize pricing, and improve risk management across various customer segments and geographical regions."
   ]
  }
 ],
 "metadata": {
  "kernelspec": {
   "display_name": "Python 3",
   "language": "python",
   "name": "python3"
  },
  "language_info": {
   "codemirror_mode": {
    "name": "ipython",
    "version": 3
   },
   "file_extension": ".py",
   "mimetype": "text/x-python",
   "name": "python",
   "nbconvert_exporter": "python",
   "pygments_lexer": "ipython3",
   "version": "3.12.1"
  }
 },
 "nbformat": 4,
 "nbformat_minor": 4
}
